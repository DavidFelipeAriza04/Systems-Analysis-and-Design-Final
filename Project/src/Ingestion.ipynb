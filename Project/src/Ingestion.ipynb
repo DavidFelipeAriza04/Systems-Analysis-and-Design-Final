{
 "cells": [
  {
   "cell_type": "code",
   "execution_count": 1,
   "id": "71e308b9-fcf4-4a5a-8d48-8d00e3009731",
   "metadata": {},
   "outputs": [],
   "source": [
    "import pandas as pd"
   ]
  },
  {
   "cell_type": "code",
   "execution_count": 2,
   "id": "b196c4ff",
   "metadata": {},
   "outputs": [],
   "source": [
    "class DataIngestion:\n",
    "    \"\"\"\n",
    "    Class to handle the ingestion of NCAA basketball data.\n",
    "    \"\"\"\n",
    "    data_dir = '../data/'\n",
    "    data = []\n",
    "    def __init__(self):\n",
    "        \"\"\"\n",
    "        Initialize the IngestData class.\n",
    "        \"\"\"\n",
    "        pass\n",
    "\n",
    "    def ingest_data(self):\n",
    "        # Load the datasets for the simulation\n",
    "        menRegularResults = pd.read_csv(f\"{self.data_dir}MRegularSeasonDetailedResults.csv\")\n",
    "        menTourneyResults = pd.read_csv(f\"{self.data_dir}MNCAATourneyDetailedResults.csv\")\n",
    "        menSeeds = pd.read_csv(f\"{self.data_dir}MNCAATourneySeeds.csv\")\n",
    "\n",
    "        womenRegularResults = pd.read_csv(f\"{self.data_dir}WRegularSeasonDetailedResults.csv\")\n",
    "        womenTourneyResults = pd.read_csv(f\"{self.data_dir}WNCAATourneyDetailedResults.csv\")\n",
    "        womenSeeds = pd.read_csv(f\"{self.data_dir}WNCAATourneySeeds.csv\")\n",
    "        self.data = [menRegularResults, menTourneyResults, menSeeds, womenRegularResults, womenTourneyResults, womenSeeds]\n",
    "    \n",
    "    def get_data(self):\n",
    "        \"\"\"\n",
    "        Returns the ingested data.\n",
    "        \"\"\"\n",
    "        if not self.data:\n",
    "            self.ingest_data()\n",
    "        return self.data"
   ]
  }
 ],
 "metadata": {
  "kernelspec": {
   "display_name": ".venv",
   "language": "python",
   "name": "python3"
  },
  "language_info": {
   "codemirror_mode": {
    "name": "ipython",
    "version": 3
   },
   "file_extension": ".py",
   "mimetype": "text/x-python",
   "name": "python",
   "nbconvert_exporter": "python",
   "pygments_lexer": "ipython3",
   "version": "3.12.10"
  }
 },
 "nbformat": 4,
 "nbformat_minor": 5
}
